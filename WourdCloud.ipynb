{
  "nbformat": 4,
  "nbformat_minor": 0,
  "metadata": {
    "colab": {
      "name": "WourdCloud.ipynb",
      "provenance": [],
      "collapsed_sections": [],
      "include_colab_link": true
    },
    "kernelspec": {
      "name": "python3",
      "display_name": "Python 3"
    }
  },
  "cells": [
    {
      "cell_type": "markdown",
      "metadata": {
        "id": "view-in-github",
        "colab_type": "text"
      },
      "source": [
        "<a href=\"https://colab.research.google.com/github/Seankudg/Hello_World/blob/master/WourdCloud.ipynb\" target=\"_parent\"><img src=\"https://colab.research.google.com/assets/colab-badge.svg\" alt=\"Open In Colab\"/></a>"
      ]
    },
    {
      "cell_type": "code",
      "metadata": {
        "id": "LOC8sUUNVT11",
        "colab_type": "code",
        "outputId": "ec7e2d86-0c36-4128-a997-0389f581edee",
        "colab": {
          "base_uri": "https://localhost:8080/",
          "height": 255
        }
      },
      "source": [
        "!pip install git+https://git@github.com/kavgan/word_cloud.git\n"
      ],
      "execution_count": 0,
      "outputs": [
        {
          "output_type": "stream",
          "text": [
            "Collecting git+https://git@github.com/kavgan/word_cloud.git\n",
            "  Cloning https://git@github.com/kavgan/word_cloud.git to /tmp/pip-req-build-1njehz8u\n",
            "Requirement already satisfied: scikit-learn==0.19.1 in /usr/local/lib/python3.6/dist-packages (from word-cloud==0.0.0) (0.19.1)\n",
            "Requirement already satisfied: pandas==0.20.3 in /usr/local/lib/python3.6/dist-packages (from word-cloud==0.0.0) (0.20.3)\n",
            "Requirement already satisfied: python-dateutil>=2 in /usr/local/lib/python3.6/dist-packages (from pandas==0.20.3->word-cloud==0.0.0) (2.5.3)\n",
            "Requirement already satisfied: pytz>=2011k in /usr/local/lib/python3.6/dist-packages (from pandas==0.20.3->word-cloud==0.0.0) (2018.5)\n",
            "Requirement already satisfied: numpy>=1.7.0 in /usr/local/lib/python3.6/dist-packages (from pandas==0.20.3->word-cloud==0.0.0) (1.14.6)\n",
            "Requirement already satisfied: six>=1.5 in /usr/local/lib/python3.6/dist-packages (from python-dateutil>=2->pandas==0.20.3->word-cloud==0.0.0) (1.11.0)\n",
            "Building wheels for collected packages: word-cloud\n",
            "  Running setup.py bdist_wheel for word-cloud ... \u001b[?25l-\b \bdone\n",
            "\u001b[?25h  Stored in directory: /tmp/pip-ephem-wheel-cache-8_wfsdeb/wheels/d6/98/5f/8e001af2b4fb7852176a75f82de076b6515ee0fd298416fd01\n",
            "Successfully built word-cloud\n",
            "Installing collected packages: word-cloud\n",
            "Successfully installed word-cloud-0.0.0\n"
          ],
          "name": "stdout"
        }
      ]
    },
    {
      "cell_type": "markdown",
      "metadata": {
        "id": "KPR8hP_ZYQRF",
        "colab_type": "text"
      },
      "source": [
        "## Word Cloud Examples"
      ]
    },
    {
      "cell_type": "code",
      "metadata": {
        "id": "cygFlSxoVUdI",
        "colab_type": "code",
        "colab": {}
      },
      "source": [
        "from word_cloud.word_cloud_generator import WordCloud\n",
        "from IPython.core.display import HTML\n",
        "from nltk.corpus import reuters\n",
        "import nltk\n",
        "import pandas as pd"
      ],
      "execution_count": 0,
      "outputs": []
    },
    {
      "cell_type": "code",
      "metadata": {
        "id": "HLneDnSLVZSH",
        "colab_type": "code",
        "colab": {}
      },
      "source": [
        "ENGLISH_STOP_WORDS = frozenset([\n",
        "    \"a\", \"about\", \"above\", \"across\", \"after\", \"afterwards\", \"again\", \"against\",\n",
        "    \"all\", \"almost\", \"alone\", \"along\", \"already\", \"also\", \"although\", \"always\",\n",
        "    \"am\", \"among\", \"amongst\", \"amoungst\", \"amount\", \"an\", \"and\", \"another\",\n",
        "    \"any\", \"anyhow\", \"anyone\", \"anything\", \"anyway\", \"anywhere\", \"are\",\n",
        "    \"around\", \"as\", \"at\", \"back\", \"be\", \"became\", \"because\", \"become\",\n",
        "    \"becomes\", \"becoming\", \"been\", \"before\", \"beforehand\", \"behind\", \"being\",\n",
        "    \"below\", \"beside\", \"besides\", \"between\", \"beyond\", \"bill\", \"both\",\n",
        "    \"bottom\", \"but\", \"by\", \"call\", \"can\", \"cannot\", \"cant\", \"co\", \"con\",\n",
        "    \"could\", \"couldnt\", \"cry\", \"de\", \"describe\", \"detail\", \"do\", \"done\",\n",
        "    \"down\", \"due\", \"during\", \"each\", \"eg\", \"eight\", \"either\", \"eleven\", \"else\",\n",
        "    \"elsewhere\", \"empty\", \"enough\", \"etc\", \"even\", \"ever\", \"every\", \"everyone\",\n",
        "    \"everything\", \"everywhere\", \"except\", \"few\", \"fifteen\", \"fifty\", \"fill\",\n",
        "    \"find\", \"fire\", \"first\", \"five\", \"for\", \"former\", \"formerly\", \"forty\",\n",
        "    \"found\", \"four\", \"from\", \"front\", \"full\", \"further\", \"get\", \"give\", \"go\",\n",
        "    \"had\", \"has\", \"hasnt\", \"have\", \"he\", \"hence\", \"her\", \"here\", \"hereafter\",\n",
        "    \"hereby\", \"herein\", \"hereupon\", \"hers\", \"herself\", \"him\", \"himself\", \"his\",\n",
        "    \"how\", \"however\", \"hundred\", \"i\", \"ie\", \"if\", \"in\", \"inc\", \"indeed\",\n",
        "    \"interest\", \"into\", \"is\", \"it\", \"its\", \"itself\", \"keep\", \"last\", \"latter\",\n",
        "    \"latterly\", \"least\", \"less\", \"ltd\", \"made\", \"many\", \"may\", \"me\",\n",
        "    \"meanwhile\", \"might\", \"mill\", \"mine\", \"more\", \"moreover\", \"most\", \"mostly\",\n",
        "    \"move\", \"much\", \"must\", \"my\", \"myself\", \"name\", \"namely\", \"neither\",\n",
        "    \"never\", \"nevertheless\", \"next\", \"nine\", \"no\", \"nobody\", \"none\", \"noone\",\n",
        "    \"nor\", \"not\", \"nothing\", \"now\", \"nowhere\", \"of\", \"off\", \"often\", \"on\",\n",
        "    \"once\", \"one\", \"only\", \"onto\", \"or\", \"other\", \"others\", \"otherwise\", \"our\",\n",
        "    \"ours\", \"ourselves\", \"out\", \"over\", \"own\", \"part\", \"per\", \"perhaps\",\n",
        "    \"please\", \"put\", \"rather\", \"re\", \"same\", \"see\", \"seem\", \"seemed\",\n",
        "    \"seeming\", \"seems\", \"serious\", \"several\", \"she\", \"should\", \"show\", \"side\",\n",
        "    \"since\", \"sincere\", \"six\", \"sixty\", \"so\", \"some\", \"somehow\", \"someone\",\n",
        "    \"something\", \"sometime\", \"sometimes\", \"somewhere\", \"still\", \"such\",\n",
        "    \"system\", \"take\", \"ten\", \"than\", \"that\", \"the\", \"their\", \"them\",\n",
        "    \"themselves\", \"then\", \"thence\", \"there\", \"thereafter\", \"thereby\",\n",
        "    \"therefore\", \"therein\", \"thereupon\", \"these\", \"they\", \"thick\", \"thin\",\n",
        "    \"third\", \"this\", \"those\", \"though\", \"three\", \"through\", \"throughout\",\n",
        "    \"thru\", \"thus\", \"to\", \"together\", \"too\", \"top\", \"toward\", \"towards\",\n",
        "    \"twelve\", \"twenty\", \"two\", \"un\", \"under\", \"until\", \"up\", \"upon\", \"us\",\n",
        "    \"very\", \"via\", \"was\", \"we\", \"well\", \"were\", \"what\", \"whatever\", \"when\",\n",
        "    \"whence\", \"whenever\", \"where\", \"whereafter\", \"whereas\", \"whereby\",\n",
        "    \"wherein\", \"whereupon\", \"wherever\", \"whether\", \"which\", \"while\", \"whither\",\n",
        "    \"who\", \"whoever\", \"whole\", \"whom\", \"whose\", \"why\", \"will\", \"with\",\n",
        "    \"within\", \"without\", \"would\", \"yet\", \"said\",\"you\", \"your\", \"yours\", \"yourself\",\n",
        "    \"yourselves\"])"
      ],
      "execution_count": 0,
      "outputs": []
    },
    {
      "cell_type": "code",
      "metadata": {
        "id": "fuEf6C_GWB-v",
        "colab_type": "code",
        "colab": {}
      },
      "source": [
        ""
      ],
      "execution_count": 0,
      "outputs": []
    },
    {
      "cell_type": "markdown",
      "metadata": {
        "id": "w-mSpKRuWGjO",
        "colab_type": "text"
      },
      "source": [
        "## Generate word clouds with a single text document\n",
        "This example show cases how you can generate word clouds with just one document. While the colors can be randomized, in this example, the colors are based on the default color settings. By default, the words are weighted by word counts unless you explicitly ask for tfidf weighting. Tfidf weighting makes sense only if you have a lot of documents to start with, otherwise the idf values would be incorrect."
      ]
    },
    {
      "cell_type": "code",
      "metadata": {
        "id": "hOoWgrf9WKUm",
        "colab_type": "code",
        "outputId": "30571a85-8ffa-4088-b70f-e77c65d1cb99",
        "colab": {
          "base_uri": "https://localhost:8080/",
          "height": 348
        }
      },
      "source": [
        "#only one news article here\n",
        "texts=['MEXICO CITY — Newly formed Hurricane Willa rapidly intensified off Mexico\\'s Pacific coast','MEXICO CITY — Newly formed Hurricane Willa rapidly intensified off Mexico\\'s Pacific coast Sunday and early Monday and became a major Category 5 storm, the U.S. National Hurricane Center said. As of 11 a.m. ET., Willa had maximum sustained winds of 160 mph -- just 3 mph over the threshold for a Category 5.    Willa was \"potentially catastrophic,\" forecasters warned. The hurricane center said it could make landfall along Mexico\\'s southwestern coast Tuesday afternoon or evening and bring with it a life-threatening storm surge -- especially near and to the south of where the center of Willa makes landfall.    Near the coast, the surge will be accompanied by large and destructive waves. Willa is also forecast to bring high winds and heavy rainfall.    \"Slight weakening is forecast to begin on Tuesday, but Willa is expected to be an extremely dangerous major hurricane when it reaches the coast of Mexico,\" the center said.    A map made by the U.S. National Hurricane Center shows the projected path for Hurricane Willa as of 11 a.m. ET on Oct. 22, 2018.   A map made by the U.S. National Hurricane Center shows the projected path for Hurricane Willa as of 11 a.m. ET on Oct. 22, 2018. NATIONAL HURRICANE CENTER  The center said Willa was about 175 miles south-southwest of Las Islas Marias, Mexico, and some 135 miles southwest of Cabo Corrientes, Mexico, and was moving north at about 7 mph.    Hurricane-force winds extended outward up to 30 miles from the center and tropical-storm-force winds extended outward up to 105 miles.    A hurricane warning was posted for a stretch of shore between San Blas and Mazatlan. A tropical storm warning was in effect for Playa Perula to San Blas and north of Mazatlan to Bahia Tempehuaya.    Forecasters said Willa is expected to produce storm total rainfall accumulations of 6 to 12 inches, with local amounts up to 18 inches, across portions of western Jalisco, western Nayarit, and southern Sinaloa in Mexico. The rainfall could cause life-threatening flash flooding and landslides.    Farther inland, Willa is expected to produce rainfall amounts of 2 to 4 inches across portions of Zacateca, Durango, southeast Chihuahua, and Coahuila in Mexico, with local amounts up to 6 inches possible. That could cause life-threatening flash flooding.    After Willa makes its way across Mexico, it could drop between 1 and 3 inches of rain on central and southern Texas during the middle of the week, CBS News contributing meteorologist Jeff Berardelli reports. The additional rainfall could cause additional flooding in already saturated areas.','early Monday and became a major Category 5 storm, the U.S. National Hurricane Center said. As of 11 a.m. ET., Willa had maximum sustained winds of 160 mph -- just 3 mph over the threshold for a Category 5.    Willa was \"potentially catastrophic,\" forecasters warned. The hurricane center said it could make landfall along Mexico\\'s southwestern coast Tuesday afternoon or evening and bring with it a life-threatening storm surge -- especially near and to the south of where the center of Willa makes landfall.    Near the coast, the surge will be accompanied by large and destructive waves. Willa is also forecast to bring high winds and heavy rainfall.    \"Slight weakening is forecast to begin on Tuesday, but Willa is expected to be an extremely dangerous major hurricane when it reaches the coast of Mexico,\" the center said.    A map made by the U.S. National Hurricane Center shows the projected path for Hurricane Willa as of 11 a.m. ET on Oct. 22, 2018.   A map made by the U.S. National Hurricane Center shows the projected path for Hurricane Willa as of 11 a.m. ET on Oct. 22, 2018. NATIONAL HURRICANE CENTER  The center said Willa was about 175 miles south-southwest of Las Islas Marias, Mexico, and some 135 miles southwest of Cabo Corrientes, Mexico, and was moving north at about 7 mph.    Hurricane-force winds extended outward up to 30 miles from the center and tropical-storm-force winds extended outward up to 105 miles.    A hurricane warning was posted for a stretch of shore between San Blas and Mazatlan. A tropical storm warning was in effect for Playa Perula to San Blas and north of Mazatlan to Bahia Tempehuaya.    Forecasters said Willa is expected to produce storm total rainfall accumulations of 6 to 12 inches, with local amounts up to 18 inches, across portions of western Jalisco, western Nayarit, and southern Sinaloa in Mexico. The rainfall could cause life-threatening flash flooding and landslides.    Farther inland, Willa is expected to produce rainfall amounts of 2 to 4 inches across portions of Zacateca, Durango, southeast Chihuahua, and Coahuila in Mexico, with local amounts up to 6 inches possible. That could cause life-threatening flash flooding.    After Willa makes its way across Mexico, it could drop between 1 and 3 inches of rain on central and southern Texas during the middle of the week, CBS News contributing meteorologist Jeff Berardelli reports. The additional rainfall could cause additional flooding in already saturated areas.']\n",
        "\n",
        "\n",
        "wc=WordCloud(use_tfidf=False,stopwords=ENGLISH_STOP_WORDS)\n",
        "\n",
        "#don't randomize color, show only top 50\n",
        "embed_code=wc.get_embed_code(text=texts,random_color=False,topn=50)\n",
        "HTML(embed_code)"
      ],
      "execution_count": 0,
      "outputs": [
        {
          "output_type": "execute_result",
          "data": {
            "text/html": [
              "<div align='center' style='width:100%'><div align='center' style='text-align:justify; border-radius: 25px;background: #fff7f7;overflow: auto; width:500px !important; padding:20px; '; text-align: center; word-wrap: break-word;> <span style='color:#3498DB;font-size:1.1em;white-space: normal;font-family:verdana;display: inline-block;line-height:30px'>forecast&nbsp;</span> <span style='color:#3498DB;font-size:1.1em;white-space: normal;font-family:verdana;display: inline-block;line-height:30px'>north&nbsp;</span> <span style='color:#3498DB;font-size:1.1em;white-space: normal;font-family:verdana;display: inline-block;line-height:30px'>produce&nbsp;</span> <span style='color:#FF5733;font-size:1.25em;white-space: normal;font-family:verdana;display: inline-block;line-height:30px'>amounts&nbsp;</span> <span style='color:#3498DB;font-size:1.1em;white-space: normal;font-family:verdana;display: inline-block;line-height:30px'>makes&nbsp;</span> <span style='color:#3498DB;font-size:1.1em;white-space: normal;font-family:verdana;display: inline-block;line-height:30px'>surge&nbsp;</span> <span style='color:#3498DB;font-size:1.1em;white-space: normal;font-family:verdana;display: inline-block;line-height:30px'>warning&nbsp;</span> <span style='color:#3498DB;font-size:1.1em;white-space: normal;font-family:verdana;display: inline-block;line-height:30px'>tropical&nbsp;</span> <span style='color:#6C22E6;font-size:1.8499999999999996em;white-space: normal;font-family:verdana;display: inline-block;line-height:30px'>inches&nbsp;</span> <span style='color:#2ECC71;font-size:1.5499999999999998em;white-space: normal;font-family:verdana;display: inline-block;line-height:30px'>winds&nbsp;</span> <span style='color:#6C22E6;font-size:1.8499999999999996em;white-space: normal;font-family:verdana;display: inline-block;line-height:30px'>storm&nbsp;</span> <span style='color:#3498DB;font-size:1.1em;white-space: normal;font-family:verdana;display: inline-block;line-height:30px'>forecasters&nbsp;</span> <span style='color:#3498DB;font-size:1.1em;white-space: normal;font-family:verdana;display: inline-block;line-height:30px'>south&nbsp;</span> <span style='color:#6C22E6;font-size:1.8499999999999996em;white-space: normal;font-family:verdana;display: inline-block;line-height:30px'>rainfall&nbsp;</span> <span style='color:#FF5733;font-size:1.25em;white-space: normal;font-family:verdana;display: inline-block;line-height:30px'>threatening&nbsp;</span> <span style='color:#3498DB;font-size:1.1em;white-space: normal;font-family:verdana;display: inline-block;line-height:30px'>extended&nbsp;</span> <span style='color:#5882FA;font-size:2.749999999999999em;white-space: normal;font-family:verdana;display: inline-block;line-height:30px'>center&nbsp;</span> <span style='color:#3498DB;font-size:1.1em;white-space: normal;font-family:verdana;display: inline-block;line-height:30px'>outward&nbsp;</span> <span style='color:#2ECC71;font-size:1.5499999999999998em;white-space: normal;font-family:verdana;display: inline-block;line-height:30px'>coast&nbsp;</span> <span style='color:#3498DB;font-size:1.1em;white-space: normal;font-family:verdana;display: inline-block;line-height:30px'>flash&nbsp;</span> <span style='color:#2ECC71;font-size:1.5499999999999998em;white-space: normal;font-family:verdana;display: inline-block;line-height:30px'>national&nbsp;</span> <span style='color:#3498DB;font-size:1.1em;white-space: normal;font-family:verdana;display: inline-block;line-height:30px'>category&nbsp;</span> <span style='color:#FF5733;font-size:1.25em;white-space: normal;font-family:verdana;display: inline-block;line-height:30px'>flooding&nbsp;</span> <span style='color:#3498DB;font-size:1.1em;white-space: normal;font-family:verdana;display: inline-block;line-height:30px'>san&nbsp;</span> <span style='color:#DBA901;font-size:3.3499999999999988em;white-space: normal;font-family:verdana;display: inline-block;line-height:30px'>hurricane&nbsp;</span> <span style='color:#2ECC71;font-size:1.5499999999999998em;white-space: normal;font-family:verdana;display: inline-block;line-height:30px'>miles&nbsp;</span> <span style='color:#3498DB;font-size:1.1em;white-space: normal;font-family:verdana;display: inline-block;line-height:30px'>mazatlan&nbsp;</span> <span style='color:#FF5733;font-size:1.25em;white-space: normal;font-family:verdana;display: inline-block;line-height:30px'>life&nbsp;</span> <span style='color:#3498DB;font-size:1.1em;white-space: normal;font-family:verdana;display: inline-block;line-height:30px'>major&nbsp;</span> <span style='color:#3498DB;font-size:1.1em;white-space: normal;font-family:verdana;display: inline-block;line-height:30px'>portions&nbsp;</span> <span style='color:#FF5733;font-size:1.25em;white-space: normal;font-family:verdana;display: inline-block;line-height:30px'>cause&nbsp;</span> <span style='color:#3498DB;font-size:1.1em;white-space: normal;font-family:verdana;display: inline-block;line-height:30px'>southern&nbsp;</span> <span style='color:#b82c2c;font-size:3.4999999999999987em;white-space: normal;font-family:verdana;display: inline-block;line-height:30px'>willa&nbsp;</span> <span style='color:#3498DB;font-size:1.1em;white-space: normal;font-family:verdana;display: inline-block;line-height:30px'>tuesday&nbsp;</span> <span style='color:#3498DB;font-size:1.1em;white-space: normal;font-family:verdana;display: inline-block;line-height:30px'>landfall&nbsp;</span> <span style='color:#3498DB;font-size:1.1em;white-space: normal;font-family:verdana;display: inline-block;line-height:30px'>western&nbsp;</span> <span style='color:#FF5733;font-size:1.25em;white-space: normal;font-family:verdana;display: inline-block;line-height:30px'>11&nbsp;</span> <span style='color:#5882FA;font-size:2.749999999999999em;white-space: normal;font-family:verdana;display: inline-block;line-height:30px'>mexico&nbsp;</span> <span style='color:#FF5733;font-size:1.25em;white-space: normal;font-family:verdana;display: inline-block;line-height:30px'>mph&nbsp;</span> <span style='color:#3498DB;font-size:1.1em;white-space: normal;font-family:verdana;display: inline-block;line-height:30px'>southwest&nbsp;</span> <span style='color:#3498DB;font-size:1.1em;white-space: normal;font-family:verdana;display: inline-block;line-height:30px'>local&nbsp;</span> <span style='color:#FF5733;font-size:1.25em;white-space: normal;font-family:verdana;display: inline-block;line-height:30px'>expected&nbsp;</span> <span style='color:#3498DB;font-size:1.1em;white-space: normal;font-family:verdana;display: inline-block;line-height:30px'>near&nbsp;</span> <span style='color:#3498DB;font-size:1.1em;white-space: normal;font-family:verdana;display: inline-block;line-height:30px'>projected&nbsp;</span> <span style='color:#3498DB;font-size:1.1em;white-space: normal;font-family:verdana;display: inline-block;line-height:30px'>shows&nbsp;</span> <span style='color:#3498DB;font-size:1.1em;white-space: normal;font-family:verdana;display: inline-block;line-height:30px'>map&nbsp;</span> <span style='color:#3498DB;font-size:1.1em;white-space: normal;font-family:verdana;display: inline-block;line-height:30px'>path&nbsp;</span> <span style='color:#3498DB;font-size:1.1em;white-space: normal;font-family:verdana;display: inline-block;line-height:30px'>force&nbsp;</span> <span style='color:#3498DB;font-size:1.1em;white-space: normal;font-family:verdana;display: inline-block;line-height:30px'>oct&nbsp;</span> <span style='color:#FF5733;font-size:1.25em;white-space: normal;font-family:verdana;display: inline-block;line-height:30px'>et&nbsp;</span></div></div>"
            ],
            "text/plain": [
              "<IPython.core.display.HTML object>"
            ]
          },
          "metadata": {
            "tags": []
          },
          "execution_count": 10
        }
      ]
    },
    {
      "cell_type": "markdown",
      "metadata": {
        "id": "g3CyRGZoWfL_",
        "colab_type": "text"
      },
      "source": [
        "### Randomized color\n",
        "This is the same example as above, with the colors randomized"
      ]
    },
    {
      "cell_type": "code",
      "metadata": {
        "id": "8nMA8wLwWgkH",
        "colab_type": "code",
        "outputId": "fcd3a0ff-9203-4232-bf27-5788f47e64c3",
        "colab": {
          "base_uri": "https://localhost:8080/",
          "height": 379
        }
      },
      "source": [
        "embed_code=wc.get_embed_code(text=texts,random_color=True,topn=50)\n",
        "HTML(embed_code)"
      ],
      "execution_count": 0,
      "outputs": [
        {
          "output_type": "execute_result",
          "data": {
            "text/html": [
              "<div align='center' style='width:100%'><div align='center' style='text-align:justify; border-radius: 25px;background: #fff7f7;overflow: auto; width:500px !important; padding:20px; '; text-align: center; word-wrap: break-word;> <span style='color:#223AE6;font-size:1.1em;white-space: normal;font-family:verdana;display: inline-block;line-height:30px'>near&nbsp;</span> <span style='color:#223AE6;font-size:1.1em;white-space: normal;font-family:verdana;display: inline-block;line-height:30px'>warning&nbsp;</span> <span style='color:#FF0080;font-size:1.25em;white-space: normal;font-family:verdana;display: inline-block;line-height:30px'>life&nbsp;</span> <span style='color:#223AE6;font-size:1.1em;white-space: normal;font-family:verdana;display: inline-block;line-height:30px'>projected&nbsp;</span> <span style='color:#FF0080;font-size:1.25em;white-space: normal;font-family:verdana;display: inline-block;line-height:30px'>et&nbsp;</span> <span style='color:#223AE6;font-size:1.1em;white-space: normal;font-family:verdana;display: inline-block;line-height:30px'>shows&nbsp;</span> <span style='color:#5F6A6A;font-size:1.8499999999999996em;white-space: normal;font-family:verdana;display: inline-block;line-height:30px'>inches&nbsp;</span> <span style='color:#848484;font-size:1.5499999999999998em;white-space: normal;font-family:verdana;display: inline-block;line-height:30px'>national&nbsp;</span> <span style='color:#04B404;font-size:3.4999999999999987em;white-space: normal;font-family:verdana;display: inline-block;line-height:30px'>willa&nbsp;</span> <span style='color:#223AE6;font-size:1.1em;white-space: normal;font-family:verdana;display: inline-block;line-height:30px'>outward&nbsp;</span> <span style='color:#223AE6;font-size:1.1em;white-space: normal;font-family:verdana;display: inline-block;line-height:30px'>map&nbsp;</span> <span style='color:#223AE6;font-size:1.1em;white-space: normal;font-family:verdana;display: inline-block;line-height:30px'>western&nbsp;</span> <span style='color:#223AE6;font-size:1.1em;white-space: normal;font-family:verdana;display: inline-block;line-height:30px'>category&nbsp;</span> <span style='color:#223AE6;font-size:1.1em;white-space: normal;font-family:verdana;display: inline-block;line-height:30px'>extended&nbsp;</span> <span style='color:#FF0080;font-size:1.25em;white-space: normal;font-family:verdana;display: inline-block;line-height:30px'>expected&nbsp;</span> <span style='color:#223AE6;font-size:1.1em;white-space: normal;font-family:verdana;display: inline-block;line-height:30px'>tropical&nbsp;</span> <span style='color:#223AE6;font-size:1.1em;white-space: normal;font-family:verdana;display: inline-block;line-height:30px'>north&nbsp;</span> <span style='color:#223AE6;font-size:1.1em;white-space: normal;font-family:verdana;display: inline-block;line-height:30px'>surge&nbsp;</span> <span style='color:#223AE6;font-size:1.1em;white-space: normal;font-family:verdana;display: inline-block;line-height:30px'>south&nbsp;</span> <span style='color:#DBA901;font-size:2.749999999999999em;white-space: normal;font-family:verdana;display: inline-block;line-height:30px'>mexico&nbsp;</span> <span style='color:#5F6A6A;font-size:1.8499999999999996em;white-space: normal;font-family:verdana;display: inline-block;line-height:30px'>storm&nbsp;</span> <span style='color:#223AE6;font-size:1.1em;white-space: normal;font-family:verdana;display: inline-block;line-height:30px'>major&nbsp;</span> <span style='color:#223AE6;font-size:1.1em;white-space: normal;font-family:verdana;display: inline-block;line-height:30px'>landfall&nbsp;</span> <span style='color:#5F6A6A;font-size:1.8499999999999996em;white-space: normal;font-family:verdana;display: inline-block;line-height:30px'>rainfall&nbsp;</span> <span style='color:#223AE6;font-size:1.1em;white-space: normal;font-family:verdana;display: inline-block;line-height:30px'>produce&nbsp;</span> <span style='color:#223AE6;font-size:1.1em;white-space: normal;font-family:verdana;display: inline-block;line-height:30px'>portions&nbsp;</span> <span style='color:#223AE6;font-size:1.1em;white-space: normal;font-family:verdana;display: inline-block;line-height:30px'>southern&nbsp;</span> <span style='color:#223AE6;font-size:1.1em;white-space: normal;font-family:verdana;display: inline-block;line-height:30px'>flash&nbsp;</span> <span style='color:#DBA901;font-size:2.749999999999999em;white-space: normal;font-family:verdana;display: inline-block;line-height:30px'>center&nbsp;</span> <span style='color:#FF0080;font-size:1.25em;white-space: normal;font-family:verdana;display: inline-block;line-height:30px'>threatening&nbsp;</span> <span style='color:#223AE6;font-size:1.1em;white-space: normal;font-family:verdana;display: inline-block;line-height:30px'>oct&nbsp;</span> <span style='color:#008080;font-size:3.3499999999999988em;white-space: normal;font-family:verdana;display: inline-block;line-height:30px'>hurricane&nbsp;</span> <span style='color:#FF0080;font-size:1.25em;white-space: normal;font-family:verdana;display: inline-block;line-height:30px'>11&nbsp;</span> <span style='color:#223AE6;font-size:1.1em;white-space: normal;font-family:verdana;display: inline-block;line-height:30px'>mazatlan&nbsp;</span> <span style='color:#223AE6;font-size:1.1em;white-space: normal;font-family:verdana;display: inline-block;line-height:30px'>southwest&nbsp;</span> <span style='color:#848484;font-size:1.5499999999999998em;white-space: normal;font-family:verdana;display: inline-block;line-height:30px'>miles&nbsp;</span> <span style='color:#848484;font-size:1.5499999999999998em;white-space: normal;font-family:verdana;display: inline-block;line-height:30px'>winds&nbsp;</span> <span style='color:#223AE6;font-size:1.1em;white-space: normal;font-family:verdana;display: inline-block;line-height:30px'>forecast&nbsp;</span> <span style='color:#FF0080;font-size:1.25em;white-space: normal;font-family:verdana;display: inline-block;line-height:30px'>cause&nbsp;</span> <span style='color:#223AE6;font-size:1.1em;white-space: normal;font-family:verdana;display: inline-block;line-height:30px'>forecasters&nbsp;</span> <span style='color:#223AE6;font-size:1.1em;white-space: normal;font-family:verdana;display: inline-block;line-height:30px'>makes&nbsp;</span> <span style='color:#223AE6;font-size:1.1em;white-space: normal;font-family:verdana;display: inline-block;line-height:30px'>local&nbsp;</span> <span style='color:#848484;font-size:1.5499999999999998em;white-space: normal;font-family:verdana;display: inline-block;line-height:30px'>coast&nbsp;</span> <span style='color:#223AE6;font-size:1.1em;white-space: normal;font-family:verdana;display: inline-block;line-height:30px'>san&nbsp;</span> <span style='color:#FF0080;font-size:1.25em;white-space: normal;font-family:verdana;display: inline-block;line-height:30px'>amounts&nbsp;</span> <span style='color:#223AE6;font-size:1.1em;white-space: normal;font-family:verdana;display: inline-block;line-height:30px'>force&nbsp;</span> <span style='color:#223AE6;font-size:1.1em;white-space: normal;font-family:verdana;display: inline-block;line-height:30px'>tuesday&nbsp;</span> <span style='color:#223AE6;font-size:1.1em;white-space: normal;font-family:verdana;display: inline-block;line-height:30px'>path&nbsp;</span> <span style='color:#FF0080;font-size:1.25em;white-space: normal;font-family:verdana;display: inline-block;line-height:30px'>mph&nbsp;</span> <span style='color:#FF0080;font-size:1.25em;white-space: normal;font-family:verdana;display: inline-block;line-height:30px'>flooding&nbsp;</span></div></div>"
            ],
            "text/plain": [
              "<IPython.core.display.HTML object>"
            ]
          },
          "metadata": {
            "tags": []
          },
          "execution_count": 11
        }
      ]
    },
    {
      "cell_type": "markdown",
      "metadata": {
        "id": "C5nUkL3eW1YP",
        "colab_type": "text"
      },
      "source": [
        "## Generate word clouds from multiple documents \n"
      ]
    },
    {
      "cell_type": "code",
      "metadata": {
        "id": "xSHAHV67WmX4",
        "colab_type": "code",
        "outputId": "a39a5c9b-6e36-4801-86a2-e11f1b48c72e",
        "colab": {
          "base_uri": "https://localhost:8080/",
          "height": 302
        }
      },
      "source": [
        "wc=WordCloud(use_tfidf=False,stopwords=ENGLISH_STOP_WORDS)\n",
        "\n",
        "nltk.download('reuters')\n",
        "\n",
        "#get all articles related to coffee\n",
        "category_docs = reuters.fileids(\"coffee\");\n",
        "\n",
        "\n",
        "list_of_documents=[]\n",
        "\n",
        "#use raw content from a 100 documents\n",
        "for i in range (100):\n",
        "    document_id = category_docs[i]\n",
        "    list_of_documents.append(reuters.raw(document_id)) \n",
        "    \n",
        "\n",
        "embed_code=wc.get_embed_code(text=list_of_documents,random_color=True,topn=50)\n",
        "HTML(embed_code)"
      ],
      "execution_count": 0,
      "outputs": [
        {
          "output_type": "stream",
          "text": [
            "[nltk_data] Downloading package reuters to /root/nltk_data...\n",
            "[nltk_data]   Package reuters is already up-to-date!\n"
          ],
          "name": "stdout"
        },
        {
          "output_type": "execute_result",
          "data": {
            "text/html": [
              "<div align='center' style='width:100%'><div align='center' style='text-align:justify; border-radius: 25px;background: #fff7f7;overflow: auto; width:500px !important; padding:20px; '; text-align: center; word-wrap: break-word;> <span style='color:#223AE6;font-size:0.9500000000000001em;white-space: normal;font-family:verdana;display: inline-block;line-height:30px'>board&nbsp;</span> <span style='color:#2ECC71;font-size:0.8em;white-space: normal;font-family:verdana;display: inline-block;line-height:30px'>1987&nbsp;</span> <span style='color:#223AE6;font-size:0.9500000000000001em;white-space: normal;font-family:verdana;display: inline-block;line-height:30px'>exchange&nbsp;</span> <span style='color:#223AE6;font-size:0.9500000000000001em;white-space: normal;font-family:verdana;display: inline-block;line-height:30px'>talks&nbsp;</span> <span style='color:#008080;font-size:1.1em;white-space: normal;font-family:verdana;display: inline-block;line-height:30px'>quota&nbsp;</span> <span style='color:#3498DB;font-size:1.25em;white-space: normal;font-family:verdana;display: inline-block;line-height:30px'>year&nbsp;</span> <span style='color:#223AE6;font-size:0.9500000000000001em;white-space: normal;font-family:verdana;display: inline-block;line-height:30px'>meeting&nbsp;</span> <span style='color:#2ECC71;font-size:0.8em;white-space: normal;font-family:verdana;display: inline-block;line-height:30px'>delegates&nbsp;</span> <span style='color:#008080;font-size:1.1em;white-space: normal;font-family:verdana;display: inline-block;line-height:30px'>new&nbsp;</span> <span style='color:#2ECC71;font-size:0.8em;white-space: normal;font-family:verdana;display: inline-block;line-height:30px'>organization&nbsp;</span> <span style='color:#223AE6;font-size:0.9500000000000001em;white-space: normal;font-family:verdana;display: inline-block;line-height:30px'>000&nbsp;</span> <span style='color:#2ECC71;font-size:0.8em;white-space: normal;font-family:verdana;display: inline-block;line-height:30px'>told&nbsp;</span> <span style='color:#2ECC71;font-size:0.8em;white-space: normal;font-family:verdana;display: inline-block;line-height:30px'>foreign&nbsp;</span> <span style='color:#725394;font-size:1.4em;white-space: normal;font-family:verdana;display: inline-block;line-height:30px'>mln&nbsp;</span> <span style='color:#2ECC71;font-size:0.8em;white-space: normal;font-family:verdana;display: inline-block;line-height:30px'>price&nbsp;</span> <span style='color:#223AE6;font-size:0.9500000000000001em;white-space: normal;font-family:verdana;display: inline-block;line-height:30px'>producer&nbsp;</span> <span style='color:#008080;font-size:1.1em;white-space: normal;font-family:verdana;display: inline-block;line-height:30px'>trade&nbsp;</span> <span style='color:#2ECC71;font-size:0.8em;white-space: normal;font-family:verdana;display: inline-block;line-height:30px'>london&nbsp;</span> <span style='color:#223AE6;font-size:0.9500000000000001em;white-space: normal;font-family:verdana;display: inline-block;line-height:30px'>dlrs&nbsp;</span> <span style='color:#2ECC71;font-size:0.8em;white-space: normal;font-family:verdana;display: inline-block;line-height:30px'>1985&nbsp;</span> <span style='color:#2ECC71;font-size:0.8em;white-space: normal;font-family:verdana;display: inline-block;line-height:30px'>registrations&nbsp;</span> <span style='color:#bc72d0;font-size:3.4999999999999987em;white-space: normal;font-family:verdana;display: inline-block;line-height:30px'>coffee&nbsp;</span> <span style='color:#2ECC71;font-size:0.8em;white-space: normal;font-family:verdana;display: inline-block;line-height:30px'>added&nbsp;</span> <span style='color:#223AE6;font-size:0.9500000000000001em;white-space: normal;font-family:verdana;display: inline-block;line-height:30px'>week&nbsp;</span> <span style='color:#2ECC71;font-size:0.8em;white-space: normal;font-family:verdana;display: inline-block;line-height:30px'>crop&nbsp;</span> <span style='color:#3498DB;font-size:1.25em;white-space: normal;font-family:verdana;display: inline-block;line-height:30px'>bags&nbsp;</span> <span style='color:#2ECC71;font-size:0.8em;white-space: normal;font-family:verdana;display: inline-block;line-height:30px'>government&nbsp;</span> <span style='color:#2ECC71;font-size:0.8em;white-space: normal;font-family:verdana;display: inline-block;line-height:30px'>cocoa&nbsp;</span> <span style='color:#223AE6;font-size:0.9500000000000001em;white-space: normal;font-family:verdana;display: inline-block;line-height:30px'>countries&nbsp;</span> <span style='color:#223AE6;font-size:0.9500000000000001em;white-space: normal;font-family:verdana;display: inline-block;line-height:30px'>tonnes&nbsp;</span> <span style='color:#008080;font-size:1.1em;white-space: normal;font-family:verdana;display: inline-block;line-height:30px'>market&nbsp;</span> <span style='color:#2ECC71;font-size:0.8em;white-space: normal;font-family:verdana;display: inline-block;line-height:30px'>world&nbsp;</span> <span style='color:#2ECC71;font-size:0.8em;white-space: normal;font-family:verdana;display: inline-block;line-height:30px'>brazilian&nbsp;</span> <span style='color:#008080;font-size:1.1em;white-space: normal;font-family:verdana;display: inline-block;line-height:30px'>international&nbsp;</span> <span style='color:#2ECC71;font-size:0.8em;white-space: normal;font-family:verdana;display: inline-block;line-height:30px'>ibc&nbsp;</span> <span style='color:#223AE6;font-size:0.9500000000000001em;white-space: normal;font-family:verdana;display: inline-block;line-height:30px'>agreement&nbsp;</span> <span style='color:#223AE6;font-size:0.9500000000000001em;white-space: normal;font-family:verdana;display: inline-block;line-height:30px'>colombia&nbsp;</span> <span style='color:#2ECC71;font-size:0.8em;white-space: normal;font-family:verdana;display: inline-block;line-height:30px'>consumers&nbsp;</span> <span style='color:#2ECC71;font-size:0.8em;white-space: normal;font-family:verdana;display: inline-block;line-height:30px'>production&nbsp;</span> <span style='color:#3498DB;font-size:1.25em;white-space: normal;font-family:verdana;display: inline-block;line-height:30px'>producers&nbsp;</span> <span style='color:#2ECC71;font-size:0.8em;white-space: normal;font-family:verdana;display: inline-block;line-height:30px'>sources&nbsp;</span> <span style='color:#725394;font-size:1.4em;white-space: normal;font-family:verdana;display: inline-block;line-height:30px'>export&nbsp;</span> <span style='color:#725394;font-size:1.4em;white-space: normal;font-family:verdana;display: inline-block;line-height:30px'>brazil&nbsp;</span> <span style='color:#725394;font-size:1.4em;white-space: normal;font-family:verdana;display: inline-block;line-height:30px'>ico&nbsp;</span> <span style='color:#b82c2c;font-size:1.5499999999999998em;white-space: normal;font-family:verdana;display: inline-block;line-height:30px'>quotas&nbsp;</span> <span style='color:#223AE6;font-size:0.9500000000000001em;white-space: normal;font-family:verdana;display: inline-block;line-height:30px'>1986&nbsp;</span> <span style='color:#2ECC71;font-size:0.8em;white-space: normal;font-family:verdana;display: inline-block;line-height:30px'>official&nbsp;</span> <span style='color:#223AE6;font-size:0.9500000000000001em;white-space: normal;font-family:verdana;display: inline-block;line-height:30px'>exports&nbsp;</span> <span style='color:#3498DB;font-size:1.25em;white-space: normal;font-family:verdana;display: inline-block;line-height:30px'>prices&nbsp;</span> <span style='color:#008080;font-size:1.1em;white-space: normal;font-family:verdana;display: inline-block;line-height:30px'>pct&nbsp;</span></div></div>"
            ],
            "text/plain": [
              "<IPython.core.display.HTML object>"
            ]
          },
          "metadata": {
            "tags": []
          },
          "execution_count": 14
        }
      ]
    },
    {
      "cell_type": "markdown",
      "metadata": {
        "id": "L0pIElKGXKXX",
        "colab_type": "text"
      },
      "source": [
        "## Generate word clouds from existing weights\n",
        "Let's say you already have a set of words with corresponding weights, and you just want to visualize it, that is also an option with this library. All you need to do is make sure that weights are normalized between [0-1]"
      ]
    },
    {
      "cell_type": "code",
      "metadata": {
        "id": "H0DVUL8rWrx_",
        "colab_type": "code",
        "outputId": "b246c6a2-cc34-4396-aaab-da7d2347450e",
        "colab": {
          "base_uri": "https://localhost:8080/",
          "height": 230
        }
      },
      "source": [
        "wc=WordCloud(use_tfidf=False,stopwords=ENGLISH_STOP_WORDS)\n",
        "\n",
        "#words with corresponding weights\n",
        "list_of_scores=[['nice-work',0.2],['great-job',0.7],['cool-place',0.1],['cool-cloud',0.6],['phrase-cloud',0.34],['word-cloud',0.625],['nice-colors',0.525],['small-font',0.4],['fun-place',0.6],['awesome',0.4],['intelligent',0.4],['medium-font',0.4],['crazy',0.2],['smart',0.3],['ambitious',0.4]]\n",
        "\n",
        "embed_code=wc.get_embed_code(text_scores=pd.DataFrame(list_of_scores),random_color=True,topn=50)\n",
        "HTML(embed_code)"
      ],
      "execution_count": 0,
      "outputs": [
        {
          "output_type": "execute_result",
          "data": {
            "text/html": [
              "<div align='center' style='width:100%'><div align='center' style='text-align:justify; border-radius: 25px;background: #fff7f7;overflow: auto; width:500px !important; padding:20px; '; text-align: center; word-wrap: break-word;> <span style='color:#FF0080;font-size:1.1em;white-space: normal;font-family:verdana;display: inline-block;line-height:30px'>nice-work&nbsp;</span> <span style='color:#FF0080;font-size:1.1em;white-space: normal;font-family:verdana;display: inline-block;line-height:30px'>crazy&nbsp;</span> <span style='color:#b82c2c;font-size:2.2999999999999994em;white-space: normal;font-family:verdana;display: inline-block;line-height:30px'>cool-cloud&nbsp;</span> <span style='color:#b82c2c;font-size:2.2999999999999994em;white-space: normal;font-family:verdana;display: inline-block;line-height:30px'>fun-place&nbsp;</span> <span style='color:#ACB02E;font-size:2.599999999999999em;white-space: normal;font-family:verdana;display: inline-block;line-height:30px'>great-job&nbsp;</span> <span style='color:#725394;font-size:1.8499999999999996em;white-space: normal;font-family:verdana;display: inline-block;line-height:30px'>awesome&nbsp;</span> <span style='color:#725394;font-size:1.8499999999999996em;white-space: normal;font-family:verdana;display: inline-block;line-height:30px'>medium-font&nbsp;</span> <span style='color:#B18904;font-size:2.4499999999999993em;white-space: normal;font-family:verdana;display: inline-block;line-height:30px'>word-cloud&nbsp;</span> <span style='color:#725394;font-size:1.8499999999999996em;white-space: normal;font-family:verdana;display: inline-block;line-height:30px'>small-font&nbsp;</span> <span style='color:#FF5733;font-size:1.4em;white-space: normal;font-family:verdana;display: inline-block;line-height:30px'>smart&nbsp;</span> <span style='color:#3498DB;font-size:0.8em;white-space: normal;font-family:verdana;display: inline-block;line-height:30px'>cool-place&nbsp;</span> <span style='color:#FA5858;font-size:1.5499999999999998em;white-space: normal;font-family:verdana;display: inline-block;line-height:30px'>phrase-cloud&nbsp;</span> <span style='color:#003366;font-size:2.1499999999999995em;white-space: normal;font-family:verdana;display: inline-block;line-height:30px'>nice-colors&nbsp;</span> <span style='color:#725394;font-size:1.8499999999999996em;white-space: normal;font-family:verdana;display: inline-block;line-height:30px'>ambitious&nbsp;</span> <span style='color:#725394;font-size:1.8499999999999996em;white-space: normal;font-family:verdana;display: inline-block;line-height:30px'>intelligent&nbsp;</span></div></div>"
            ],
            "text/plain": [
              "<IPython.core.display.HTML object>"
            ]
          },
          "metadata": {
            "tags": []
          },
          "execution_count": 15
        }
      ]
    },
    {
      "cell_type": "code",
      "metadata": {
        "id": "sa6db6P5XJG4",
        "colab_type": "code",
        "colab": {}
      },
      "source": [
        ""
      ],
      "execution_count": 0,
      "outputs": []
    }
  ]
}